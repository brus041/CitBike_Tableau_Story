{
 "cells": [
  {
   "cell_type": "code",
   "execution_count": 11,
   "source": [
    "import pandas as pd \n",
    "november = pd.read_csv(\"bike_data_last_6/november.csv\")\n",
    "october = pd.read_csv(\"bike_data_last_6/october.csv\")\n",
    "september = pd.read_csv(\"bike_data_last_6/september.csv\")\n",
    "august = pd.read_csv(\"bike_data_last_6/august.csv\")\n",
    "merge1 = pd.concat([august,september])\n",
    "merge2 = pd.concat([merge1,october])\n",
    "merge3 = pd.concat([merge2,november])\n",
    "\n",
    "df = pd.DataFrame(merge3)\n",
    "df.to_csv(\"Aug_to_Nov.csv\")"
   ],
   "outputs": [],
   "metadata": {}
  }
 ],
 "metadata": {
  "orig_nbformat": 4,
  "language_info": {
   "name": "python",
   "version": "3.6.10",
   "mimetype": "text/x-python",
   "codemirror_mode": {
    "name": "ipython",
    "version": 3
   },
   "pygments_lexer": "ipython3",
   "nbconvert_exporter": "python",
   "file_extension": ".py"
  },
  "kernelspec": {
   "name": "python3",
   "display_name": "Python 3.6.10 64-bit ('venv': conda)"
  },
  "interpreter": {
   "hash": "3f6acd4545d008d74b1bc56e0920897854c77ecf9e874c3b3700a6e370b33431"
  }
 },
 "nbformat": 4,
 "nbformat_minor": 2
}